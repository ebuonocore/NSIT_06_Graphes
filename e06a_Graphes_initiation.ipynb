{
 "cells": [
  {
   "cell_type": "markdown",
   "metadata": {},
   "source": [
    "<div style=\"width:100%;border-collapse:separate;border:solid 2px;border-radius:14px;\">\n",
    "    <div style=\"display:flex;\">\n",
    "        <div style=\"display:inline;width:5%;\"></div>\n",
    "        <div style=\"display:inline;width:15%;\">NSIT</div>\n",
    "        <div style=\"display:inline;width:15%;\">e06a</div>\n",
    "        <div style=\"display:inline;width:70%;text-align:right;\"><b>Structures de données</b></div>\n",
    "        <div style=\"display:inline;width:5%;\"></div>\n",
    "    </div>\n",
    "    <div  style=\"display: flex;background-color:#EEE\">\n",
    "        <p style=\"width:100%;text-align:center;\">Graphes</p>\n",
    "    </div>\n",
    "    <div  style=\"display: flex;\">\n",
    "        <p style=\"width:100%;text-align:center;\">Première approche</p>\n",
    "    </div>\n",
    "</div>"
   ]
  },
  {
   "cell_type": "markdown",
   "metadata": {},
   "source": [
    "<div class = \"alert alert-success\">\n",
    "    \n",
    "**Objectifs de la séquence:** \n",
    "- Découverte du vocabulaire de base: Sommets, arcs, arêtes,graphes orientés ou non orientés.\n",
    "- Modéliser des situations sous forme de graphes."
   ]
  },
  {
   "cell_type": "markdown",
   "metadata": {},
   "source": [
    "<div class = \"alert alert-info\">\n",
    "    \n",
    "**Sommaire :**\n",
    "\n",
    "- <a href=#a_pieds>Une balade à pieds</a>  \n",
    "- <a href=#en_voiture>En voiture !</a> \n",
    "- <a href=#chemins>Plus courts chemins</a> \n",
    "- <a href=#labys>Retrouver son chemin</a> \n",
    "- <a href=#modelisation>Modéliser un labyrinthe par un graphe</a> \n",
    "    \n",
    "\n",
    "</div>"
   ]
  },
  {
   "cell_type": "markdown",
   "metadata": {},
   "source": [
    "![autour_de_Molière_a_pieds](https://github.com/ebuonocore/NSIT_06_Graphes/blob/main/Plan_01.png?raw=true)"
   ]
  },
  {
   "cell_type": "markdown",
   "metadata": {},
   "source": [
    "<div id=\"a_pieds\"></div>\n",
    "\n",
    "## Une balade à pieds\n",
    "Rendez-vous sur http://viz-js.com/ et en vous inspirant des exemples du site https://graphs.grevian.org/example, reproduisez le graphe qui relient les points du schéma ci-dessus.  \n",
    "Les points sont nommés les '**sommets**'.  \n",
    "Les segments qui les relient sont des '**arêtes**'  \n",
    "Les trajets à pieds pouvant se faire dans les deux sens, basez-vous sur l'exemple du **graphe non-orienté**: Example 1: Simple Graph  \n",
    "\n",
    "Recopiez le code de votre graphe dans la cellule ci-dessous:"
   ]
  },
  {
   "cell_type": "code",
   "execution_count": null,
   "metadata": {},
   "outputs": [],
   "source": [
    "graph {\n",
    "    A -- M;\n",
    "    A -- B;\n",
    "    B -- C;\n",
    "    C -- D;\n",
    "    C -- E;\n",
    "    D -- E;\n",
    "    E -- F;\n",
    "    F -- J;\n",
    "...\n",
    "    \n",
    "}"
   ]
  },
  {
   "cell_type": "markdown",
   "metadata": {},
   "source": [
    "Précisez un chemin possible pour vous rendre du sommet 'M' au sommet 'H' (listez les sommets)"
   ]
  },
  {
   "cell_type": "markdown",
   "metadata": {},
   "source": [
    "M - ... - H"
   ]
  },
  {
   "cell_type": "markdown",
   "metadata": {},
   "source": [
    "Lien vers la <a href=\"https://github.com/ebuonocore/NSIT_06_Graphes/blob/main/NSIT_e06a_correction_graphe01.txt\">correction</a> des questions précédentes"
   ]
  },
  {
   "cell_type": "markdown",
   "metadata": {},
   "source": [
    "#### Matrice d'adjacence\n",
    "\n",
    "On peut décrire un graphe par le suite des sommets qui le compose et un tableau permettant d'indiquer les relations possibles entre ces sommets.  \n",
    "Ci-dessous un '1' signifie qu'une arête existe entre les deux sommets.  \n",
    "Notez que la relation entre 'A' et 'A' est désignée par un '0': Cela veut dire qu'il n'existe pas une arête qui 'reboucle' de '1' vers 'A' ..\n",
    "Complétez le tableau en modifiant les '-'."
   ]
  },
  {
   "cell_type": "markdown",
   "metadata": {},
   "source": [
    "Nom du graphe: G_a_pieds  \n",
    "Liste des sommets = {A, B, C, D, E, F, G, i, J, M}\n",
    "\n",
    "Matrice d'adjacence:\n",
    "\n",
    "          A   B   C   D   E   F   G   H   I   J   M\n",
    "        \n",
    "       A  0   1   0   0   0   0   0   0   0   0   1\n",
    "        \n",
    "       B  1   0   1   0   0   0   0   0   0   0   1\n",
    "        \n",
    "       C  0   1   0   1   1   0   0   0   0   0   0\n",
    "        \n",
    "       D  0   0   1   0   1   0   0   0   0   0   0\n",
    "       \n",
    "       E  -   -   -   -   -   -   -   -   -   -   -\n",
    "        \n",
    "       F  -   -   -   -   -   -   -   -   -   -   -\n",
    "        \n",
    "       G  0   0   0   0   0   1   0   1   0   0   0\n",
    "        \n",
    "       H  0   0   0   0   0   0   1   0   1   0   0\n",
    "        \n",
    "       I  0   0   0   0   0   1   1   0   0   1   0\n",
    "        \n",
    "       J  0   0   0   0   0   1   0   0   1   0   1\n",
    "        \n",
    "       M  1   0   0   0   0   0   0   0   0   1   0"
   ]
  },
  {
   "cell_type": "markdown",
   "metadata": {},
   "source": [
    "#### Graphe pondéré  \n",
    "Rendez-vous sur Geoportail ou un autre site de localisation pour récupérer les distances en mètres entre chaque sommet.  \n",
    "Complétez le graphe en apportant cette fois les indications (poids) sur les arêtes: Example 4: Full Digraph.  \n",
    "Collez ci-dessous votre code:"
   ]
  },
  {
   "cell_type": "code",
   "execution_count": null,
   "metadata": {},
   "outputs": [],
   "source": []
  },
  {
   "cell_type": "markdown",
   "metadata": {},
   "source": [
    "Lien vers la <a href=\"https://github.com/ebuonocore/NSIT_06_Graphes/blob/main/NSIT_e06a_correction_graphe02.txt\">correction</a>"
   ]
  },
  {
   "cell_type": "markdown",
   "metadata": {},
   "source": [
    "<div id=\"en_voiture\"></div>\n",
    "\n",
    "## En voiture!\n",
    "Certains chemin sont à sens unique pour les véhicules motorisés.  \n",
    "Recodez votre graphe en tenant compte de cette information.  \n",
    "On ne parle plus d'arêtes maintenant pour désigner les segments entre les sommets mais d'**arcs**.  \n",
    "Le graphe est **orienté**.  \n",
    "Pensez à dessiner deux arcs entre deux sommets lorsqu'on peut circuler dans les deux sens.  \n",
    "Votre code ci-dessous:"
   ]
  },
  {
   "cell_type": "code",
   "execution_count": null,
   "metadata": {},
   "outputs": [],
   "source": []
  },
  {
   "cell_type": "markdown",
   "metadata": {},
   "source": [
    "Lien vers la <a href=\"https://github.com/ebuonocore/NSIT_06_Graphes/blob/main/NSIT_e06a_correction_graphe03.txt\">correction</a>"
   ]
  },
  {
   "cell_type": "markdown",
   "metadata": {},
   "source": [
    "<div id=\"chemins\"></div>\n",
    "\n",
    "## Plus courts chemins\n",
    "Dans les deux cas (à pieds ou en voiture) le plus court chemin entre M et H ne sont pas les mêmes.  \n",
    "Renseignez ces 2 chemins ainsi que leurs distances respectives (sommes des poids des arêtes ou des arcs)"
   ]
  },
  {
   "cell_type": "markdown",
   "metadata": {},
   "source": [
    "Plus court chemin à pieds:\n",
    "Distance minimale à pieds:\n",
    "\n",
    "Plus court chemin en voiture:\n",
    "Distance minimale en voiture:"
   ]
  },
  {
   "cell_type": "markdown",
   "metadata": {},
   "source": [
    "<div id=\"labys\"></div>\n",
    "\n",
    "## Retrouver son chemin\n",
    "![Laby_parfait](https://github.com/ebuonocore/NSIT_06_Graphes/blob/main/laby_01_parfait.png?raw=true)\n",
    "On entre dans ces labyrinthes par le point rouge, et on cherche la sortie (point vert)  \n",
    "Connaissez-vous une technique efficace pour sortir de ce genre de labyrinthe?  \n",
    "Décrivez ci-dessous la méthode:"
   ]
  },
  {
   "cell_type": "code",
   "execution_count": null,
   "metadata": {},
   "outputs": [],
   "source": []
  },
  {
   "cell_type": "markdown",
   "metadata": {},
   "source": [
    "Lien vers la <a href=\"https://github.com/ebuonocore/NSIT_06_Graphes/blob/main/NSIT_e06a_correction_graphe04.txt\">correction</a>"
   ]
  },
  {
   "cell_type": "markdown",
   "metadata": {},
   "source": [
    "On fait la distinction entre deux types de labyrinthes: Les labyrithes **parfaits** et **imparfaits**.  \n",
    "https://fr.wikipedia.org/wiki/Mod%C3%A9lisation_math%C3%A9matique_de_labyrinthe   \n",
    "![Laby_imparfait](https://github.com/ebuonocore/NSIT_06_Graphes/blob/main/laby_02_imparfait.png?raw=true)\n",
    "Du coup, la méthode utilisée pour le labyrinthe précédent ne fonctionne plus.  \n",
    "Qu'est ce qui  permet de dire que ce labyrinthe fait partie de la seconde famille ?"
   ]
  },
  {
   "cell_type": "markdown",
   "metadata": {},
   "source": [
    "<div id=\"modelisation\"></div>\n",
    "\n",
    "## Modéliser un labyrinthe par un graphe\n",
    "Il est possible de modéliser les chemins possibles dans un labyrinthe par un graphe.  \n",
    "Avec http://viz-js.com/  proposez le code correspondant au dessin du graphe de ce labyrinthe:\n",
    "![Laby_imparfait](https://github.com/ebuonocore/NSIT_06_Graphes/blob/main/laby_03_imparfait.png?raw=true)\n",
    "Il est possible de désigner les points particuliers du labyrithe par un sommet, lui-même désigné par une lettre... ou mieux par ses coordonnées (abscisse, ordonnée)"
   ]
  },
  {
   "cell_type": "code",
   "execution_count": null,
   "metadata": {},
   "outputs": [],
   "source": []
  },
  {
   "cell_type": "markdown",
   "metadata": {},
   "source": [
    "Lien vers la <a href=\"https://github.com/ebuonocore/NSIT_06_Graphes/blob/main/NSIT_e06a_correction_graphe05.txt\">correction</a>"
   ]
  },
  {
   "cell_type": "markdown",
   "metadata": {},
   "source": [
    "---\n",
    "<p style=\"font-family:Comic Sans MS; text-align: center; color:gray; font-size: x-small; \">- Eric Buonocore. Octobre 2020 -<br></p>\n",
    "\n",
    "![Licence CC BY NC SA](https://licensebuttons.net/l/by-nc-sa/3.0/88x31.png)"
   ]
  }
 ],
 "metadata": {
  "kernelspec": {
   "display_name": "Python 3",
   "language": "python",
   "name": "python3"
  },
  "language_info": {
   "codemirror_mode": {
    "name": "ipython",
    "version": 3
   },
   "file_extension": ".py",
   "mimetype": "text/x-python",
   "name": "python",
   "nbconvert_exporter": "python",
   "pygments_lexer": "ipython3",
   "version": "3.7.3"
  }
 },
 "nbformat": 4,
 "nbformat_minor": 4
}
