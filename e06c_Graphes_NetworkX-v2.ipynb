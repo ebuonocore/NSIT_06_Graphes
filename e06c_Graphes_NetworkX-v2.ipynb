{
 "cells": [
  {
   "cell_type": "markdown",
   "metadata": {},
   "source": [
    "<div style=\"width:100%;border-collapse:separate;border:solid 2px;border-radius:14px;\">\n",
    "    <div style=\"display:flex;\">\n",
    "        <div style=\"display:inline;width:5%;\"></div>\n",
    "        <div style=\"display:inline;width:15%;\">NSIT</div>\n",
    "        <div style=\"display:inline;width:15%;\">e06a</div>\n",
    "        <div style=\"display:inline;width:70%;text-align:right;\"><b>Structures de données</b></div>\n",
    "        <div style=\"display:inline;width:5%;\"></div>\n",
    "    </div>\n",
    "    <div  style=\"display: flex;background-color:#EEE\">\n",
    "        <p style=\"width:100%;text-align:center;\">Graphes</p>\n",
    "    </div>\n",
    "    <div  style=\"display: flex;\">\n",
    "        <p style=\"width:100%;text-align:center;\">Analyse d'un réseau social avec  NetworkX</p>\n",
    "    </div>\n",
    "</div>"
   ]
  },
  {
   "cell_type": "markdown",
   "metadata": {},
   "source": [
    "<div class = \"alert alert-success\">\n",
    "    \n",
    "**Objectifs de la séquence:** \n",
    "- Découverte de la bibliothèque NetworkX\n",
    "- Approfondissement du concept de graphe (non-orienté et orienté)\n",
    "- Mesures sur un graphe: Centre, diamètre, rayon\n",
    "- Liste d'adjacence et matrice d'adjacence"
   ]
  },
  {
   "cell_type": "markdown",
   "metadata": {},
   "source": [
    "<div class = \"alert alert-info\">\n",
    "    \n",
    "**Sommaire :**\n",
    "\n",
    "- <a href=#presentation>Présentation</a>   \n",
    "- <a href=#reseau_social>Instagraph: Un réseau social</a>     \n",
    "- <a href=#popularite>Record de popularité: Dégré d'un sommet</a>   \n",
    "- <a href=#influenceurs>Meilleurs influenceurs</a>     \n",
    "- <a href=#distances>Calcul  de distance et parcours</a>  \n",
    "- <a href=#distagraph>DiStaGraph></a>  \n",
    "\n",
    "</div>"
   ]
  },
  {
   "cell_type": "markdown",
   "metadata": {},
   "source": [
    "![illustration](https://github.com/ebuonocore/NSIT_06_Graphes/blob/main/reseau_soc_illustration.png?raw=true)\n",
    "\n",
    "<div id=\"presentation\"></div>\n",
    "\n",
    "## Présentation\n",
    "\n",
    "Dans l'activité précédente, nous avons utilisé **graphviz** et http://viz-js.com/ pour dessiner des graphes.  \n",
    "Nous avons aussi découvert les parcours de graphe en largeur et en profondeur en débranché.  \n",
    "Nous allons maintenant découvrir la très riche bibliothèque **NetworkX**.  \n",
    "<p style=\"font-size: small; \">Sources: <a href=\"https://networkx.github.io/documentation/stable/reference/functions.html#paths\">networkx.github.io</a> (Functions)</p>"
   ]
  },
  {
   "cell_type": "markdown",
   "metadata": {},
   "source": [
    "Vous exécuterez les codes suivants dans le notebook, mais ils peuvent être aussi copiés dans votre IDE (Thonny, Spyder...) après avoir importé le module NetworkX.   \n",
    "![importer_networkx](https://github.com/ebuonocore/NSIT_06_Graphes/blob/main/importer_networkx.png?raw=true)"
   ]
  },
  {
   "cell_type": "markdown",
   "metadata": {},
   "source": [
    "Nous utiliserons, dans un premier temps, ce module à travers la classe **Graph** qui le compose.  \n",
    "La librairie étant écrite en anglais, il faut connaitre les traductions suivantes:  \n",
    "\n",
    "<table style=\"width:500px;\">\n",
    "    <tr>\n",
    "        <td style=\"width:250px;background-color:#CCD;text-align:right\">\n",
    "            <b>Sommet/Noeud<br>  \n",
    "            Arête/arc<br>\n",
    "            Graphe<br>\n",
    "            Voisins<br>\n",
    "        </td>\n",
    "        <td style=\"width:250px;background-color:#EEF;text-align:left\">\n",
    "            Node<br>  \n",
    "            Edge<br>\n",
    "            Graph<br>\n",
    "            Neighbors<br>\n",
    "        </td>\n",
    "    </tr>\n",
    "</table>\n",
    "Nous allons princpalement utiliser les méthodes suivantes:  \n",
    "<table style=\"width:500px;\">\n",
    "    <tr>\n",
    "        <td style=\"width:250px;background-color:#CCD;text-align:right\">\n",
    "            <b>G = nx.Graph()<br>  \n",
    "            G.add_node(\"Nom\")<br>\n",
    "            G.add_edge(\"Noeud_1\", \"Noeud_2\")<br>\n",
    "            nx.draw(G, with_labels=True)<br>\n",
    "        </td>\n",
    "        <td style=\"width:250px;background-color:#EEF;text-align:left\">\n",
    "            Instanciation d'un objet de type Graph<br>  \n",
    "            Ajout d'un sommet \"Nom\" au graphe G<br>\n",
    "            Ajout d'une arête/arc entre les sommets <br>\n",
    "            Représentation graphique de G<br>\n",
    "        </td>\n",
    "    </tr>\n",
    "</table>\n",
    "\n"
   ]
  },
  {
   "cell_type": "markdown",
   "metadata": {},
   "source": [
    "<div id=\"reseau_social\"></div>\n",
    "\n",
    "## Instagraph: Un réseau social\n",
    "Nous allons créer un premier exemple de graphe représentant les liens entre différents individus d'un réseau social en pleine expansion: \n",
    "![Instagraph](https://github.com/ebuonocore/NSIT_06_Graphes/blob/main/logo_instagraph.png?raw=true)"
   ]
  },
  {
   "cell_type": "code",
   "execution_count": null,
   "metadata": {},
   "outputs": [],
   "source": [
    "import networkx as nx\n",
    "import matplotlib.pyplot as plt # pour les représentations graphiques\n",
    "\n",
    "Instagraph = nx.Graph()\n",
    "\n",
    "# Ajout des noeuds nommés\n",
    "Instagraph.add_node(\"EMMA\")\n",
    "Instagraph.add_node(\"JADE\")\n",
    "Instagraph.add_node(\"LOUISE\")\n",
    "Instagraph.add_node(\"ALICE\")\n",
    "Instagraph.add_node(\"GABRIEL\")\n",
    "Instagraph.add_node(\"LÉO\")\n",
    "Instagraph.add_node(\"RAPHAËL\")\n",
    "Instagraph.add_node(\"ARTHUR\")\n",
    "Instagraph.add_node(\"PATRICK\")\n",
    "Instagraph.add_node(\"MILA\")\n",
    "Instagraph.add_node(\"ROSE\")\n",
    "\n",
    "\n",
    "# Ajout des arêtes\n",
    "Instagraph.add_edge(\"EMMA\", \"JADE\")\n",
    "Instagraph.add_edge(\"EMMA\", \"LÉO\")\n",
    "Instagraph.add_edge(\"MILA\", \"LOUISE\")\n",
    "Instagraph.add_edge(\"ROSE\", \"MILA\")\n",
    "Instagraph.add_edge(\"PATRICK\", \"LÉO\")\n",
    "Instagraph.add_edge(\"RAPHAËL\", \"LOUISE\")\n",
    "Instagraph.add_edge(\"RAPHAËL\", \"EMMA\")\n",
    "Instagraph.add_edge(\"RAPHAËL\", \"ARTHUR\")\n",
    "Instagraph.add_edge(\"RAPHAËL\", \"JADE\")\n",
    "Instagraph.add_edge(\"GABRIEL\", \"EMMA\")\n",
    "Instagraph.add_edge(\"GABRIEL\", \"LOUISE\")\n",
    "Instagraph.add_edge(\"JADE\", \"LÉO\")\n",
    "Instagraph.add_edge(\"GABRIEL\", \"LÉO\")\n",
    "Instagraph.add_edge(\"GABRIEL\", \"ARTHUR\")\n",
    "Instagraph.add_edge(\"ALICE\", \"JADE\")\n",
    "Instagraph.add_edge(\"LUCAS\", \"ALICE\")\n",
    "    \n",
    "\n",
    "# Représenation graphique\n",
    "nx.draw(Instagraph, with_labels=True)"
   ]
  },
  {
   "cell_type": "markdown",
   "metadata": {},
   "source": [
    "**A faire:** Dans le programme ci-dessus, rajoutez LUCAS qui est lié à ALICE, JADE et LEO.\n",
    "\n",
    "Quelques opérations bien utiles:\n",
    "<table style=\"width:500;\">\n",
    "    <tr>\n",
    "        <td style=\"width:250px;background-color:#CCD;text-align:right\">\n",
    "            <b>G.nodes<br> \n",
    "            G.number_of_nodes()<br>\n",
    "            G.edges<br>\n",
    "            G.number_of_edges()<br>\n",
    "            G.neighbors(s)<br>\n",
    "        </td>\n",
    "        <td style=\"width:250px;background-color:#EEF;text-align:left\">\n",
    "            Liste les sommets du graphe G<br>  \n",
    "            Nombre de noeuds du graphe G<br>\n",
    "            Liste les arcs/arêtes du graphe G<br>\n",
    "            Nombre d'arcs/arêtes du graphe G<br>\n",
    "            Liste les voisins du sommet s du graphe G<br>\n",
    "        </td>\n",
    "    </tr>\n",
    "</table>"
   ]
  },
  {
   "cell_type": "code",
   "execution_count": null,
   "metadata": {},
   "outputs": [],
   "source": [
    "# Affiche tous les sommets de G\n",
    "Instagraph.nodes"
   ]
  },
  {
   "cell_type": "code",
   "execution_count": null,
   "metadata": {},
   "outputs": [],
   "source": [
    "# Affiche la liste des arêtes de G\n",
    "Instagraph.edges"
   ]
  },
  {
   "cell_type": "code",
   "execution_count": null,
   "metadata": {},
   "outputs": [],
   "source": [
    "# Ainsi, on peut récupérer le nombre d'arêtes connectées à ce sommet: Son nombre d'amis\n",
    "len(Instagraph.edges('EMMA'))"
   ]
  },
  {
   "cell_type": "code",
   "execution_count": null,
   "metadata": {},
   "outputs": [],
   "source": [
    "# Affiche les arêtes depuis le sommet 'EMMA'\n",
    "Instagraph.edges('EMMA')"
   ]
  },
  {
   "cell_type": "code",
   "execution_count": null,
   "metadata": {},
   "outputs": [],
   "source": [
    "Instagraph.neighbors('EMMA')"
   ]
  },
  {
   "cell_type": "code",
   "execution_count": null,
   "metadata": {},
   "outputs": [],
   "source": [
    "# Oups! Cette dernière instruction renvoie sur un itérateur de dictionnaire.\n",
    "# Pour afficher tous les voisins, nous ferons comme ceci:\n",
    "for v in Instagraph.neighbors('EMMA'):\n",
    "    print(v)"
   ]
  },
  {
   "cell_type": "markdown",
   "metadata": {},
   "source": [
    "Vous voila armés pour répondre aux questions suivantes:\n",
    "\n",
    "<div id=\"popularite\"></div>\n",
    "\n",
    "## Record de popularité: Dégré d'un sommet\n",
    "Qui est le plus populaire du graphe G (Celui qui a le plus d'amis)"
   ]
  },
  {
   "cell_type": "code",
   "execution_count": null,
   "metadata": {},
   "outputs": [],
   "source": [
    "# Les scores seront mémorisés dans la liste 'scores'\n",
    "scores = []\n",
    "# On parcourt tous les sommets\n",
    "...\n",
    "    # 'nb_amis' correspond au nombre d'arêtes liées à ce sommet s\n",
    "    nb_amis = ...\n",
    "    # Pour chaque sommet s, on ajoute à 'scores' le p-uplet constitué du nom du sommet et du nombre de voisins\n",
    "    scores.append(...)\n",
    "# On affiche le résultat\n",
    "scores"
   ]
  },
  {
   "cell_type": "markdown",
   "metadata": {},
   "source": [
    "Comme souvent NetworkX propose déjà des outils pour répondre à ces besoins:  \n",
    "Il était aussi possible de faire appel à la méthode <code>degree()</code>."
   ]
  },
  {
   "cell_type": "code",
   "execution_count": null,
   "metadata": {},
   "outputs": [],
   "source": [
    "Instagraph.degree('LOUISE')"
   ]
  },
  {
   "cell_type": "markdown",
   "metadata": {},
   "source": [
    "Il ne reste plus qu'a trier cette liste en fonction du nombre décroissant d'amis et à afficher le premier.  \n",
    "Plusieurs solutions s'offrent à nous: Soit parcourir la liste, soit utiliser l'instruction <code>sorted</code> avec la clé <code>key=itemgetter()</code>*  \n",
    "\\* Pensez à importer le module <code>operator</code>\n",
    "\n",
    "<p style=\"font-size: small; \">Coup de pouce: <a href=\"https://docs.python.org/3/howto/sorting.html#operator-module-functions\">docs.python.org</a> (howto/sorting rubrique Operator Module Function)</p>"
   ]
  },
  {
   "cell_type": "code",
   "execution_count": null,
   "metadata": {},
   "outputs": [],
   "source": [
    "from operator import itemgetter\n",
    "scores_tries = sorted(scores, key=..., reverse=...)\n",
    "scores_tries[...][...]"
   ]
  },
  {
   "cell_type": "markdown",
   "metadata": {},
   "source": [
    "<div id=\"influenceurs\"></div>\n",
    "\n",
    "## Meilleurs influenceurs\n",
    "\n",
    "Nous allons maintenant chercher qui pourrait être le meilleur influenceur de ce réseau.  \n",
    "Pour cela nous avons besoin des notions de **diamètre**, de **rayon** et de **centre** de graphe.\n",
    "\n",
    "Reprenons l'exemple d'Instagraph pour l'illustrer:"
   ]
  },
  {
   "cell_type": "code",
   "execution_count": null,
   "metadata": {},
   "outputs": [],
   "source": [
    "# Représenation graphique\n",
    "nx.draw(Instagraph, with_labels=True)"
   ]
  },
  {
   "cell_type": "markdown",
   "metadata": {},
   "source": [
    "JADE se situe à une arête de LOUISE, mais elle est distante de 5 arêtes de ROSE qui est la personne la plus éloignée de JADE.  \n",
    "On dit que JADE a une **excentricité** de 5.\n",
    "Quelle est l'excentricité d'EMMA et de PATRICK?"
   ]
  },
  {
   "cell_type": "markdown",
   "metadata": {},
   "source": [
    "Excentricité d'EMMA :  ...  \n",
    "Excentricité de PATRICK : ..."
   ]
  },
  {
   "cell_type": "markdown",
   "metadata": {},
   "source": [
    "Il existe plusieurs individus que se situent à 3 arêtes maximum de tous les autres.\n",
    "Qui sont ils?"
   ]
  },
  {
   "cell_type": "markdown",
   "metadata": {},
   "source": [
    "Réponse: ..."
   ]
  },
  {
   "cell_type": "markdown",
   "metadata": {},
   "source": [
    "Ils constituent le **centre** de notre graphe puisqu'ils ont l'excentricité la moins élevée de tous les individus.  \n",
    "Cette excentricité étant de 3. On dit que ce graphe a un **rayon** de 3.  \n",
    "Si au contraire, on cherche les individus les plus éloignés (ROSE et LOUISE), la distance qui les sépare représente le diamètre du graphe."
   ]
  },
  {
   "cell_type": "markdown",
   "metadata": {},
   "source": [
    "Diamètre du graphe: ..."
   ]
  },
  {
   "cell_type": "markdown",
   "metadata": {},
   "source": [
    "On peut confirmer ces résultats grâce aux outils de NetworkX.  \n",
    "Note: ci-dessous <code>nx</code> désigne l'alias de la bibliothèque <code>networkx</code>\n",
    "\n",
    "<table style=\"width:500px;\">\n",
    "    <tr>\n",
    "        <td style=\"width:250px;background-color:#CCD;text-align:right\">\n",
    "            <b>nx.diameter(G)<br>\n",
    "            nx.radius(Instagraph)<br>\n",
    "            nx.center(Instagraph)<br>\n",
    "        </td>\n",
    "        <td style=\"width:250px;background-color:#EEF;text-align:left\">\n",
    "            Diamètre du graphe G<br>  \n",
    "            Rayon du graphe G<br>\n",
    "            Centre du graphe G<br>\n",
    "        </td>\n",
    "    </tr>\n",
    "</table>"
   ]
  },
  {
   "cell_type": "code",
   "execution_count": null,
   "metadata": {},
   "outputs": [],
   "source": [
    "print(\"Diamètre=\",nx.diameter(Instagraph))\n",
    "print(\"Rayon=\",nx.radius(Instagraph))\n",
    "print(\"Centre=\",nx.center(Instagraph))"
   ]
  },
  {
   "cell_type": "markdown",
   "metadata": {},
   "source": [
    "<div id=\"distances\"></div>\n",
    "\n",
    "## Calcul  de distance et parcours\n",
    "Toutes ces caractéristiques du graphe reposent sur la  mesure de distances et la recherche de chemin.  \n",
    "<table style=\"width:500px;\">\n",
    "    <tr>\n",
    "        <td style=\"width:250px;background-color:#CCD;text-align:right\">\n",
    "            <b>nx.shortest_path</br>\n",
    "            nx.shortest_path_length</br>\n",
    "        </td>\n",
    "        <td style=\"width:250px;background-color:#EEF;text-align:left\">\n",
    "            Chemin le plus court entre deux sommets<br>\n",
    "            Mesure la distance entre deux sommets<br> \n",
    "        </td>\n",
    "    </tr>\n",
    "</table>\n",
    "Par défaut cette algorithme utilise la méthode de Dijkstra.  \n",
    "<p style=\"font-size: small; \">Sources: <a href=\"https://networkx.github.io/documentation/stable/reference/algorithms/generated/networkx.algorithms.shortest_paths.generic.shortest_path_length.html\">networkx.github.io</a> (Shortest Paths)</p>"
   ]
  },
  {
   "cell_type": "code",
   "execution_count": null,
   "metadata": {},
   "outputs": [],
   "source": [
    "nx.shortest_path(Instagraph, 'PATRICK', 'ROSE')"
   ]
  },
  {
   "cell_type": "code",
   "execution_count": null,
   "metadata": {},
   "outputs": [],
   "source": [
    "nx.shortest_path_length(Instagraph, 'PATRICK', 'ROSE')"
   ]
  },
  {
   "cell_type": "markdown",
   "metadata": {},
   "source": [
    "<div id=\"distagraph\"></div>\n",
    "\n",
    "## DiStaGraph>\n",
    "Notre réseau social préféré opère une modification importante et devient maintenant:\n",
    "\n",
    "![DiStaGrpah>](https://github.com/ebuonocore/NSIT_06_Graphes/blob/main/distagraph_logo.png?raw=true)\n",
    "Les relations peuvent être asymétriques: Vous ne suivez pas forcément les personnes qui vous suivent.  \n",
    "Le graphe correspond cette fois à un graphe orienté: <code>DiStaGraph = nx.DiGraph()</code>\n",
    "\n",
    "Pour simplifier, les participants sont représentés par des lettres: de 'A' à 'H'. \n",
    "\n",
    "Pour construire le graphe, on vous donne une **liste des prédécesseurs**.  \n",
    "\n",
    "<table style=\"width:350px;\">\n",
    "    <tr>\n",
    "        <td style=\"width:100px;background-color:#EEF;text-align:center\">\n",
    "            <b>Sommet<br>\n",
    "            A<br>\n",
    "            B<br>\n",
    "            E<br>\n",
    "            F<br>\n",
    "        </td>\n",
    "        <td style=\"width:250px;background-color:#EFEFEF;text-align:left\">\n",
    "            <b>Est suivi par...</b><br>\n",
    "            B,C<br> \n",
    "            E<br>\n",
    "            C, D, F, G, H<br>\n",
    "            E, H, B<br>\n",
    "        </td>\n",
    "    </tr>\n",
    "</table>\n",
    "A partir de cette liste, reconstruisez la matrice d'adjacence:"
   ]
  },
  {
   "cell_type": "markdown",
   "metadata": {},
   "source": [
    "Matrice d'adjacence:\n",
    "\n",
    "          A   B   C   D   E   F   G   H   \n",
    "        \n",
    "       A  0   -   -   -   -   -   -   -\n",
    "        \n",
    "       B  1   -   -   -   -   -   -   -\n",
    "        \n",
    "       C  1   -   -   -   -   -   -   -\n",
    "        \n",
    "       D  0   -   -   -   -   -   -   -\n",
    "       \n",
    "       E  0   -   -   -   -   -   -   -   \n",
    "        \n",
    "       F  0   -   -   -   -   -   -   -   \n",
    "        \n",
    "       G  0   -   -   -   -   -   -   -\n",
    "        \n",
    "       H  0   -   -   -   -   -   -   -"
   ]
  },
  {
   "cell_type": "markdown",
   "metadata": {},
   "source": [
    "Implémentez ce graphe avec NetworkX:"
   ]
  },
  {
   "cell_type": "code",
   "execution_count": null,
   "metadata": {},
   "outputs": [],
   "source": [
    "import networkx as nx\n",
    "import matplotlib.pyplot as plt # pour les représentations graphiques\n",
    "\n",
    "DiStaGraph = nx.DiGraph()\n",
    "\n",
    "# Ajout des noeuds nommés\n",
    "DiStaGraph.add_nodes_from(['A', 'B', 'C', 'D', 'E', 'F', 'G', 'H'])\n",
    "\n",
    "\n",
    "# Ajout des arêtes\n",
    "DiStaGraph.add_edge('B','A')\n",
    "...\n",
    "    \n",
    "\n",
    "# Représenation graphique\n",
    "nx.draw(DiStaGraph, with_labels=True)"
   ]
  },
  {
   "cell_type": "markdown",
   "metadata": {},
   "source": [
    "Notez que l'arc entre F et E est bidirectionnel.\n",
    "Existe-t-il un chemin entre 'H' et 'A'?  \n",
    "Précisez le code qui permet d'en trouver la longueur (s'il existe)"
   ]
  },
  {
   "cell_type": "code",
   "execution_count": null,
   "metadata": {},
   "outputs": [],
   "source": [
    "..."
   ]
  },
  {
   "cell_type": "markdown",
   "metadata": {},
   "source": [
    "Existe-t-il un chemin entre 'A' et 'H'?  \n",
    "Précisez le code qui permet d'en trouver la longueur (s'il existe)"
   ]
  },
  {
   "cell_type": "code",
   "execution_count": null,
   "metadata": {},
   "outputs": [],
   "source": [
    "..."
   ]
  },
  {
   "cell_type": "markdown",
   "metadata": {},
   "source": [
    "Affichez les degrés des différents sommets. (Nombre de personnes qui les suivent)"
   ]
  },
  {
   "cell_type": "code",
   "execution_count": null,
   "metadata": {},
   "outputs": [],
   "source": [
    "..."
   ]
  },
  {
   "cell_type": "markdown",
   "metadata": {},
   "source": [
    "Affichez la liste des sommets classés dans l'odre décroissant de leurs degrés."
   ]
  },
  {
   "cell_type": "code",
   "execution_count": null,
   "metadata": {},
   "outputs": [],
   "source": [
    "..."
   ]
  },
  {
   "cell_type": "markdown",
   "metadata": {},
   "source": [
    "---\n",
    "<p style=\"font-family:Comic Sans MS; text-align: center; color:gray; font-size: x-small; \">- Eric Buonocore. Octobre 2020 -<br></p>\n",
    "\n",
    "![Licence CC BY NC SA](https://licensebuttons.net/l/by-nc-sa/3.0/88x31.png)"
   ]
  }
 ],
 "metadata": {
  "kernelspec": {
   "display_name": "Python 3",
   "language": "python",
   "name": "python3"
  },
  "language_info": {
   "codemirror_mode": {
    "name": "ipython",
    "version": 3
   },
   "file_extension": ".py",
   "mimetype": "text/x-python",
   "name": "python",
   "nbconvert_exporter": "python",
   "pygments_lexer": "ipython3",
   "version": "3.7.3"
  }
 },
 "nbformat": 4,
 "nbformat_minor": 4
}
